{
 "cells": [
  {
   "cell_type": "code",
   "execution_count": 10,
   "id": "c4cee18a-bb4e-4518-8a86-b8507cb5a3ef",
   "metadata": {
    "tags": []
   },
   "outputs": [],
   "source": [
    "import osmnx as ox\n",
    "import geopandas as gpd\n",
    "import networkx as nx\n",
    "import warnings\n",
    "warnings.simplefilter(action='ignore', category=FutureWarning)"
   ]
  },
  {
   "cell_type": "code",
   "execution_count": 2,
   "id": "28a6a5ee-2769-4313-995a-399785389de3",
   "metadata": {},
   "outputs": [
    {
     "name": "stdout",
     "output_type": "stream",
     "text": [
      "Acton, Massachusetts\n"
     ]
    }
   ],
   "source": [
    "places= gpd.read_file('data\\\\town_codes.csv')\n",
    "mpo = places['MPO']== \"Boston\" \n",
    "places_mpo = places[mpo].reset_index(drop=True)\n",
    "place_names = places_mpo.TOWN10\n",
    "\n",
    "print(place_names[0] + ', Massachusetts')"
   ]
  },
  {
   "cell_type": "code",
   "execution_count": 11,
   "id": "b5371cb4",
   "metadata": {},
   "outputs": [],
   "source": [
    "mpo_boundary = gpd.read_file(\"C:\\GitHub\\existing-inequities\\output\\AggregationAreas.gpkg\", layer = \"MPO_Boundary\")\n",
    "#mpo_boundary.plot()\n",
    "open_space = gpd.read_file(\"C:\\GitHub\\existing-inequities\\output\\DestinationData.gpkg\", layer = \"OpenSpace_Area\")\n",
    "paths = gpd.read_file(\"C:\\GitHub\\existing-inequities\\output\\DestinationData.gpkg\", layer = \"Paths_LINE\")"
   ]
  },
  {
   "cell_type": "code",
   "execution_count": 12,
   "id": "324afe24",
   "metadata": {
    "scrolled": true
   },
   "outputs": [
    {
     "name": "stdout",
     "output_type": "stream",
     "text": [
      "0\n",
      "Acton, Massachusetts\n",
      "1\n",
      "Arlington, Massachusetts\n",
      "2\n",
      "Ashland, Massachusetts\n",
      "3\n",
      "Bedford, Massachusetts\n",
      "4\n",
      "Bellingham, Massachusetts\n",
      "5\n",
      "Belmont, Massachusetts\n",
      "6\n",
      "Beverly, Massachusetts\n",
      "7\n",
      "Bolton, Massachusetts\n",
      "8\n",
      "Boston, Massachusetts\n",
      "9\n",
      "Boxborough, Massachusetts\n"
     ]
    }
   ],
   "source": [
    "count = 0\n",
    "full_drive_net = None\n",
    "full_walk_net = None\n",
    "for place_name in place_names[:10]:\n",
    "    place = place_name + ', Massachusetts'\n",
    "    print(count + ': ' + place)\n",
    "    try:\n",
    "        drive_net = ox.graph_from_place(place, network_type='drive')\n",
    "        walk_net = ox.graph_from_place(place, network_type='walk')\n",
    "        if count > 0:\n",
    "            full_drive_net = nx.compose(full_drive_net, drive_net)\n",
    "            full_walk_net = nx.compose(full_walk_net, walk_net)\n",
    "        else:\n",
    "            full_drive_net = drive_net\n",
    "            full_walk_net = walk_net\n",
    "        count+=1\n",
    "    except Exception:\n",
    "        print(place + 'issue')"
   ]
  },
  {
   "cell_type": "code",
   "execution_count": 15,
   "id": "f7caeeef-b20e-4528-b49d-89d3d85d92b6",
   "metadata": {},
   "outputs": [],
   "source": [
    "ox.save_graph_geopackage(full_drive_net, \"data/mpo_drive_network.gpkg\")\n",
    "ox.save_graph_geopackage(full_walk_net, \"data/mpo_walk_network.gpkg\")"
   ]
  },
  {
   "cell_type": "code",
   "execution_count": 8,
   "id": "2a07e825-6911-41bb-89f0-b98b9f1ef94f",
   "metadata": {},
   "outputs": [],
   "source": [
    "#ox.save_graph_geopackage(full_drive_net, \"data/OSMNetwork_drive.gpkg\")\n",
    "#ox.save_graph_geopackage(full_walk_net, \"data/OSMNetwork_walk.gpkg\")"
   ]
  }
 ],
 "metadata": {
  "kernelspec": {
   "display_name": "Python 3 (ipykernel)",
   "language": "python",
   "name": "python3"
  },
  "language_info": {
   "codemirror_mode": {
    "name": "ipython",
    "version": 3
   },
   "file_extension": ".py",
   "mimetype": "text/x-python",
   "name": "python",
   "nbconvert_exporter": "python",
   "pygments_lexer": "ipython3",
   "version": "3.10.4"
  }
 },
 "nbformat": 4,
 "nbformat_minor": 5
}
